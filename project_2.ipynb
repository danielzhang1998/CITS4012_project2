{
 "cells": [
  {
   "cell_type": "markdown",
   "metadata": {},
   "source": [
    "# CITS4012 Project2\n",
    "\n",
    "Theo Andily  22764884\n",
    "\n",
    "Hanlin Zhang 22541459"
   ]
  },
  {
   "cell_type": "markdown",
   "metadata": {},
   "source": [
    "## Modules"
   ]
  },
  {
   "cell_type": "code",
   "execution_count": 27,
   "metadata": {},
   "outputs": [],
   "source": [
    "import pandas as pd\n",
    "import numpy as np\n",
    "from sklearn.model_selection import train_test_split"
   ]
  },
  {
   "cell_type": "markdown",
   "metadata": {},
   "source": [
    "## Data pre-processing and preparation"
   ]
  },
  {
   "cell_type": "markdown",
   "metadata": {},
   "source": [
    "### Read data"
   ]
  },
  {
   "cell_type": "code",
   "execution_count": 2,
   "metadata": {},
   "outputs": [],
   "source": [
    "import pandas as pd\n",
    "\n",
    "def load_csv(csv_file):\n",
    "    return pd.read_csv(csv_file)\n",
    "\n",
    "job_data = load_csv(\"seek_australia.csv\")"
   ]
  },
  {
   "cell_type": "markdown",
   "metadata": {},
   "source": [
    "### Clean data"
   ]
  },
  {
   "cell_type": "code",
   "execution_count": 6,
   "metadata": {},
   "outputs": [],
   "source": [
    "# try to remove the broken characters\n",
    "\n",
    "for each in ['š', 'ª', 'º', 'Ÿ', 'µ', 'ˆ', 'œ', 'é', 'è', 'ï', 'Š', 'â', 'ç', 'æ', 'å', 'ä', 'ð', \n",
    "            'Ã', 'Â', 'Å', 'Ä', '®', '€', '™', 'ž', 'œ', '¼', '½', '¾', '¹', '²','³', '\\xa0']:\n",
    "    try:\n",
    "        job_data['job_description_clean'] = job_data['job_description_clean'].replace({each:''}, regex=True)\n",
    "    except:\n",
    "        job_data['job_description_clean'] = job_data['job_description'].replace({each:''}, regex=True)\n",
    "\n",
    "job_data['job_description_clean'] = job_data['job_description_clean'].replace({np.nan:''}, regex=True)"
   ]
  },
  {
   "cell_type": "markdown",
   "metadata": {},
   "source": [
    "### Get job description from the data set and get random 2000 samples"
   ]
  },
  {
   "cell_type": "code",
   "execution_count": 7,
   "metadata": {},
   "outputs": [],
   "source": [
    "job_descript = job_data['job_description_clean']"
   ]
  },
  {
   "cell_type": "code",
   "execution_count": 24,
   "metadata": {},
   "outputs": [
    {
     "data": {
      "text/plain": [
       "15123    * Service Desk Analyst - Level 1-2 * Managed S...\n",
       "9167      Be part of this rapidly growing organisation ...\n",
       "17242     About the business - We are a busy Accident R...\n",
       "4768      Location Profile Hazel Glen College is locate...\n",
       "769       Exciting opportunity to lead a team to delive...\n",
       "                               ...                        \n",
       "14505     THE COMPANY Renowned for their timeless desig...\n",
       "12474     About Us: Vic's Premium Quality Meat is a fam...\n",
       "28268     City of Kingston is looking for School Crossi...\n",
       "2898      Do you like challenging yourself, learning ne...\n",
       "19763     East Melbourne Full Time,Part Time Join a fun...\n",
       "Name: job_description_clean, Length: 2000, dtype: object"
      ]
     },
     "execution_count": 24,
     "metadata": {},
     "output_type": "execute_result"
    }
   ],
   "source": [
    "random_job_descript = job_descript.sample(n = 2000, random_state = 4012)"
   ]
  },
  {
   "cell_type": "markdown",
   "metadata": {},
   "source": [
    "### Get the train, test, validate data sets"
   ]
  },
  {
   "cell_type": "code",
   "execution_count": 39,
   "metadata": {},
   "outputs": [],
   "source": [
    "# set aside 20% of train and test data for evaluation\n",
    "train, test = train_test_split(random_job_descript,\n",
    "    test_size=0.2, shuffle = True, random_state = 4012)"
   ]
  },
  {
   "cell_type": "code",
   "execution_count": 40,
   "metadata": {},
   "outputs": [],
   "source": [
    "# Use the same function above for the validation set\n",
    "train, validate = train_test_split(train, \n",
    "    test_size=0.125, random_state= 4012) # 0.25 x 0.8 = 0.2"
   ]
  },
  {
   "cell_type": "code",
   "execution_count": 42,
   "metadata": {},
   "outputs": [
    {
     "name": "stdout",
     "output_type": "stream",
     "text": [
      "length of train: 1400, test: 400, validate: 200\n"
     ]
    }
   ],
   "source": [
    "print(\"length of train: {}, test: {}, validate: {}\".format(len(train), len(test), len(validate)))"
   ]
  },
  {
   "cell_type": "markdown",
   "metadata": {},
   "source": [
    "So, now we have the training/validation/test data split (70%, 10%, 20%) for each task."
   ]
  },
  {
   "cell_type": "code",
   "execution_count": 44,
   "metadata": {},
   "outputs": [],
   "source": [
    "train.to_csv('train.csv', sep=',', index=False, header=False)\n",
    "test.to_csv('test.csv', sep=',', index=False, header=False)\n",
    "validate.to_csv('validate.csv', sep=',', index=False, header=False)"
   ]
  }
 ],
 "metadata": {
  "interpreter": {
   "hash": "5603d69534832ac677bba4f9a65a09ecedcd0f87253a59c671065bc6ee7ee927"
  },
  "kernelspec": {
   "display_name": "Python 3.8.5",
   "language": "python",
   "name": "python3"
  },
  "language_info": {
   "codemirror_mode": {
    "name": "ipython",
    "version": 3
   },
   "file_extension": ".py",
   "mimetype": "text/x-python",
   "name": "python",
   "nbconvert_exporter": "python",
   "pygments_lexer": "ipython3",
   "version": "3.8.5"
  },
  "orig_nbformat": 4
 },
 "nbformat": 4,
 "nbformat_minor": 2
}
